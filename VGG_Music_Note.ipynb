{
  "nbformat": 4,
  "nbformat_minor": 0,
  "metadata": {
    "colab": {
      "provenance": [],
      "gpuType": "T4"
    },
    "kernelspec": {
      "name": "python3",
      "display_name": "Python 3"
    },
    "language_info": {
      "name": "python"
    },
    "accelerator": "GPU"
  },
  "cells": [
    {
      "cell_type": "code",
      "source": [
        "import gdown\n",
        "google_drive_link = f'https://drive.google.com/uc?id=17X9EyOxN_ZyO4Szmt-Cl_vxTybAwzGZl'\n",
        "\n",
        "# Specify the output file name\n",
        "output_file = 'images_dataset.zip'\n",
        "\n",
        "# Download the file\n",
        "gdown.download(google_drive_link, output_file, quiet=False)"
      ],
      "metadata": {
        "colab": {
          "base_uri": "https://localhost:8080/",
          "height": 104
        },
        "id": "VeNJ3dYtSNqY",
        "outputId": "3e90f928-2af7-4c8f-da4e-c315bf4bf4b4"
      },
      "execution_count": null,
      "outputs": [
        {
          "output_type": "stream",
          "name": "stderr",
          "text": [
            "Downloading...\n",
            "From: https://drive.google.com/uc?id=17X9EyOxN_ZyO4Szmt-Cl_vxTybAwzGZl\n",
            "To: /content/images_dataset.zip\n",
            "100%|██████████| 11.1M/11.1M [00:00<00:00, 25.5MB/s]\n"
          ]
        },
        {
          "output_type": "execute_result",
          "data": {
            "text/plain": [
              "'images_dataset.zip'"
            ],
            "application/vnd.google.colaboratory.intrinsic+json": {
              "type": "string"
            }
          },
          "metadata": {},
          "execution_count": 1
        }
      ]
    },
    {
      "cell_type": "code",
      "source": [
        "#Unzip file\n",
        "import zipfile\n",
        "\n",
        "def unzip_file(zip_path, extract_path):\n",
        "    with zipfile.ZipFile(zip_path, 'r') as zip_ref:\n",
        "        zip_ref.extractall(extract_path)\n",
        "\n",
        "zip_file_path = '/content/images_dataset.zip'\n",
        "extracted_folder_path = '/content'\n",
        "\n",
        "unzip_file(zip_file_path, extracted_folder_path)\n",
        "\n",
        "#delete filename desktop.ini\n",
        "import os\n",
        "os.remove('/content/music_notes_dataset/desktop.ini')"
      ],
      "metadata": {
        "id": "u61qhRS736Wj"
      },
      "execution_count": null,
      "outputs": []
    },
    {
      "cell_type": "code",
      "execution_count": null,
      "metadata": {
        "id": "BZOZl7k8Nkro"
      },
      "outputs": [],
      "source": [
        "import tensorflow as tf\n",
        "from tensorflow.keras.models import Sequential\n",
        "from tensorflow.keras.layers import Dense, Activation, Flatten, Dropout\n",
        "from tensorflow.keras.layers import Conv2D, MaxPooling2D\n",
        "from tensorflow.keras.datasets import cifar10 # subroutines for fetching the CIFAR-10 dataset\n",
        "from tensorflow.keras.models import Model # basic class for specifying and training a neural network\n",
        "from tensorflow import keras\n",
        "import numpy as np\n",
        "import pandas as pd\n",
        "import matplotlib.pyplot as plt\n",
        "import cv2 #pip3 install opencv-python\n",
        "import urllib\n",
        "import urllib\n",
        "import seaborn as sns\n",
        "from sklearn.metrics import confusion_matrix,classification_report\n",
        "from google.colab.patches import cv2_imshow"
      ]
    },
    {
      "cell_type": "code",
      "source": [
        "#convert images to matrix\n",
        "from PIL import Image\n",
        "\n",
        "def image_to_matrix(image_name):\n",
        "  all_matrices = []\n",
        "\n",
        "  for file_name in image_name.to_list():\n",
        "      # Create the full path to the image file\n",
        "      image_path = f'/content/music_notes_dataset/{file_name}'\n",
        "\n",
        "      # Open the grayscale image\n",
        "      image = Image.open(image_path)\n",
        "\n",
        "      # Convert the image to a NumPy array\n",
        "      image_matrix = np.array(image)\n",
        "\n",
        "      # Append the matrix to the list\n",
        "      all_matrices.append(image_matrix)\n",
        "\n",
        "  # Convert the list of matrices to a NumPy array\n",
        "  diabetic_retinopathy_data = np.array(all_matrices)\n",
        "  return diabetic_retinopathy_data\n"
      ],
      "metadata": {
        "id": "aAlay4uSR0CD"
      },
      "execution_count": null,
      "outputs": []
    },
    {
      "cell_type": "code",
      "source": [
        "data = pd.read_csv(\"/content/labeled_music_notes.csv\")\n",
        "data = data.drop('Unnamed: 0', axis=1)\n",
        "\n",
        "print(data)"
      ],
      "metadata": {
        "colab": {
          "base_uri": "https://localhost:8080/"
        },
        "id": "GSPxDHGVP-Hh",
        "outputId": "5deb2fa7-9d6d-4ffa-cf46-6a62b5f28a2c"
      },
      "execution_count": null,
      "outputs": [
        {
          "output_type": "stream",
          "name": "stdout",
          "text": [
            "      image_name  target\n",
            "0      img_0.jpg       0\n",
            "1      img_1.jpg       0\n",
            "2      img_2.jpg       0\n",
            "3      img_3.jpg       0\n",
            "4      img_4.jpg       0\n",
            "..           ...     ...\n",
            "980  img_980.jpg       7\n",
            "981  img_981.jpg       7\n",
            "982  img_982.jpg       7\n",
            "983  img_983.jpg       7\n",
            "984  img_984.jpg       7\n",
            "\n",
            "[985 rows x 2 columns]\n"
          ]
        }
      ]
    },
    {
      "cell_type": "code",
      "source": [
        "class_names = ['Do', 'Re', 'Mi', 'Fa', 'Sol', 'La', 'Ti', 'Imposter']\n",
        "num_classes = len(class_names)\n",
        "\n",
        "\n",
        "batch_size = 128\n",
        "num_epochs = 32\n"
      ],
      "metadata": {
        "id": "YbGYJVmMhOxU"
      },
      "execution_count": null,
      "outputs": []
    },
    {
      "cell_type": "code",
      "source": [
        "#split data\n",
        "from sklearn.model_selection import train_test_split\n",
        "\n",
        "X = data['image_name']\n",
        "Y = data['target']\n",
        "\n",
        "X_train_raw, X_test_raw, y_train_raw, y_test_raw = train_test_split(X, Y, test_size=0.2, random_state=1908)\n",
        "print(X_train_raw)\n",
        "X_train = image_to_matrix(X_train_raw)\n",
        "print(X_train.shape)\n",
        "X_test = image_to_matrix(X_test_raw)\n",
        "y_train = y_train_raw.to_numpy()\n",
        "y_test = y_test_raw.to_numpy()\n",
        "print(y_train[2])\n",
        "\n",
        "X_train = X_train.astype('float32')\n",
        "X_test = X_test.astype('float32')\n",
        "\n",
        "Y_train = tf.keras.utils.to_categorical(y_train, num_classes) # One-hot encode the labels\n",
        "Y_test = tf.keras.utils.to_categorical(y_test, num_classes) # One-hot encode the labels\n",
        "class_names[np.argmax (Y_train[2])]"
      ],
      "metadata": {
        "colab": {
          "base_uri": "https://localhost:8080/",
          "height": 278
        },
        "id": "o7IoQNokUzIR",
        "outputId": "d485f2a4-a185-4fd6-a795-88b5e9f73960"
      },
      "execution_count": null,
      "outputs": [
        {
          "output_type": "stream",
          "name": "stdout",
          "text": [
            "141    img_141.jpg\n",
            "225    img_225.jpg\n",
            "220    img_220.jpg\n",
            "689    img_689.jpg\n",
            "409    img_409.jpg\n",
            "          ...     \n",
            "731    img_731.jpg\n",
            "950    img_950.jpg\n",
            "151    img_151.jpg\n",
            "739    img_739.jpg\n",
            "86      img_86.jpg\n",
            "Name: image_name, Length: 788, dtype: object\n",
            "(788, 256, 256, 3)\n",
            "1\n"
          ]
        },
        {
          "output_type": "execute_result",
          "data": {
            "text/plain": [
              "'Re'"
            ],
            "application/vnd.google.colaboratory.intrinsic+json": {
              "type": "string"
            }
          },
          "metadata": {},
          "execution_count": 7
        }
      ]
    },
    {
      "cell_type": "markdown",
      "source": [
        "# **Using transfered Knowledge (Pretrained model)**"
      ],
      "metadata": {
        "id": "b9-X8M2ULSM4"
      }
    },
    {
      "cell_type": "code",
      "source": [
        "from keras.applications import VGG19\n",
        "vgg = VGG19(include_top= False, weights = \"imagenet\", input_shape=(256,256,3))\n",
        "vgg_layer_list = vgg.layers\n",
        "\n",
        "\n",
        "model = Sequential ()\n",
        "\n",
        "for layer in vgg_layer_list:\n",
        "    model.add(layer)\n",
        "\n",
        "for layer in model.layers:\n",
        "    layer.trainable = False\n",
        "\n",
        "\n",
        "model.add(Flatten())\n",
        "\n",
        "# Fully connected layer. 1 hidden layer consisting of 512 nodes\n",
        "model.add(Dense(64, name='Dense1'))\n",
        "model.add(Activation('tanh'))\n",
        "model.add(Dropout(0.3))\n",
        "model.add(Dense(num_classes, activation='softmax', name='Dense2'))\n",
        "print(model.summary())\n",
        "\n",
        "model.compile(loss='categorical_crossentropy', # using the cross-entropy loss function\n",
        "              optimizer=keras.optimizers.Adam(learning_rate=0.001), # using the Adam optimiser\n",
        "              metrics=['accuracy']) # reporting the accuracy"
      ],
      "metadata": {
        "colab": {
          "base_uri": "https://localhost:8080/"
        },
        "id": "AKJxZI5wLXjJ",
        "outputId": "2a65fbb9-d408-49af-9135-cd2ecd3cb2c4"
      },
      "execution_count": null,
      "outputs": [
        {
          "output_type": "stream",
          "name": "stdout",
          "text": [
            "Downloading data from https://storage.googleapis.com/tensorflow/keras-applications/vgg19/vgg19_weights_tf_dim_ordering_tf_kernels_notop.h5\n",
            "80134624/80134624 [==============================] - 1s 0us/step\n",
            "Model: \"sequential\"\n",
            "_________________________________________________________________\n",
            " Layer (type)                Output Shape              Param #   \n",
            "=================================================================\n",
            " block1_conv1 (Conv2D)       (None, 256, 256, 64)      1792      \n",
            "                                                                 \n",
            " block1_conv2 (Conv2D)       (None, 256, 256, 64)      36928     \n",
            "                                                                 \n",
            " block1_pool (MaxPooling2D)  (None, 128, 128, 64)      0         \n",
            "                                                                 \n",
            " block2_conv1 (Conv2D)       (None, 128, 128, 128)     73856     \n",
            "                                                                 \n",
            " block2_conv2 (Conv2D)       (None, 128, 128, 128)     147584    \n",
            "                                                                 \n",
            " block2_pool (MaxPooling2D)  (None, 64, 64, 128)       0         \n",
            "                                                                 \n",
            " block3_conv1 (Conv2D)       (None, 64, 64, 256)       295168    \n",
            "                                                                 \n",
            " block3_conv2 (Conv2D)       (None, 64, 64, 256)       590080    \n",
            "                                                                 \n",
            " block3_conv3 (Conv2D)       (None, 64, 64, 256)       590080    \n",
            "                                                                 \n",
            " block3_conv4 (Conv2D)       (None, 64, 64, 256)       590080    \n",
            "                                                                 \n",
            " block3_pool (MaxPooling2D)  (None, 32, 32, 256)       0         \n",
            "                                                                 \n",
            " block4_conv1 (Conv2D)       (None, 32, 32, 512)       1180160   \n",
            "                                                                 \n",
            " block4_conv2 (Conv2D)       (None, 32, 32, 512)       2359808   \n",
            "                                                                 \n",
            " block4_conv3 (Conv2D)       (None, 32, 32, 512)       2359808   \n",
            "                                                                 \n",
            " block4_conv4 (Conv2D)       (None, 32, 32, 512)       2359808   \n",
            "                                                                 \n",
            " block4_pool (MaxPooling2D)  (None, 16, 16, 512)       0         \n",
            "                                                                 \n",
            " block5_conv1 (Conv2D)       (None, 16, 16, 512)       2359808   \n",
            "                                                                 \n",
            " block5_conv2 (Conv2D)       (None, 16, 16, 512)       2359808   \n",
            "                                                                 \n",
            " block5_conv3 (Conv2D)       (None, 16, 16, 512)       2359808   \n",
            "                                                                 \n",
            " block5_conv4 (Conv2D)       (None, 16, 16, 512)       2359808   \n",
            "                                                                 \n",
            " block5_pool (MaxPooling2D)  (None, 8, 8, 512)         0         \n",
            "                                                                 \n",
            " flatten (Flatten)           (None, 32768)             0         \n",
            "                                                                 \n",
            " Dense1 (Dense)              (None, 64)                2097216   \n",
            "                                                                 \n",
            " activation (Activation)     (None, 64)                0         \n",
            "                                                                 \n",
            " dropout (Dropout)           (None, 64)                0         \n",
            "                                                                 \n",
            " Dense2 (Dense)              (None, 8)                 520       \n",
            "                                                                 \n",
            "=================================================================\n",
            "Total params: 22122120 (84.39 MB)\n",
            "Trainable params: 2097736 (8.00 MB)\n",
            "Non-trainable params: 20024384 (76.39 MB)\n",
            "_________________________________________________________________\n",
            "None\n"
          ]
        }
      ]
    },
    {
      "cell_type": "code",
      "source": [
        "history = model.fit(X_train, Y_train, batch_size=batch_size, epochs=num_epochs,\n",
        "          verbose=1, validation_split=0.1) # ...holding out 10% of the data for validation"
      ],
      "metadata": {
        "colab": {
          "base_uri": "https://localhost:8080/"
        },
        "id": "3cwKMHOBkNPR",
        "outputId": "64092ddb-e66a-45f0-a568-d0d75f2330e7"
      },
      "execution_count": null,
      "outputs": [
        {
          "output_type": "stream",
          "name": "stdout",
          "text": [
            "Epoch 1/32\n",
            "6/6 [==============================] - 63s 7s/step - loss: 1.5353 - accuracy: 0.4725 - val_loss: 0.5836 - val_accuracy: 0.8987\n",
            "Epoch 2/32\n",
            "6/6 [==============================] - 5s 813ms/step - loss: 0.7180 - accuracy: 0.7828 - val_loss: 0.3268 - val_accuracy: 0.9241\n",
            "Epoch 3/32\n",
            "6/6 [==============================] - 5s 833ms/step - loss: 0.4604 - accuracy: 0.8858 - val_loss: 0.2181 - val_accuracy: 0.9873\n",
            "Epoch 4/32\n",
            "6/6 [==============================] - 5s 869ms/step - loss: 0.3416 - accuracy: 0.9238 - val_loss: 0.1750 - val_accuracy: 1.0000\n",
            "Epoch 5/32\n",
            "6/6 [==============================] - 5s 827ms/step - loss: 0.2778 - accuracy: 0.9450 - val_loss: 0.1684 - val_accuracy: 0.9747\n",
            "Epoch 6/32\n",
            "6/6 [==============================] - 5s 845ms/step - loss: 0.2395 - accuracy: 0.9563 - val_loss: 0.1612 - val_accuracy: 0.9620\n",
            "Epoch 7/32\n",
            "6/6 [==============================] - 5s 841ms/step - loss: 0.1947 - accuracy: 0.9732 - val_loss: 0.1398 - val_accuracy: 0.9747\n",
            "Epoch 8/32\n",
            "6/6 [==============================] - 5s 815ms/step - loss: 0.1853 - accuracy: 0.9647 - val_loss: 0.1260 - val_accuracy: 0.9747\n",
            "Epoch 9/32\n",
            "6/6 [==============================] - 5s 830ms/step - loss: 0.1718 - accuracy: 0.9718 - val_loss: 0.1077 - val_accuracy: 0.9747\n",
            "Epoch 10/32\n",
            "6/6 [==============================] - 5s 811ms/step - loss: 0.1330 - accuracy: 0.9803 - val_loss: 0.0802 - val_accuracy: 0.9873\n",
            "Epoch 11/32\n",
            "6/6 [==============================] - 5s 833ms/step - loss: 0.1140 - accuracy: 0.9859 - val_loss: 0.0603 - val_accuracy: 1.0000\n",
            "Epoch 12/32\n",
            "6/6 [==============================] - 5s 800ms/step - loss: 0.0904 - accuracy: 0.9873 - val_loss: 0.0621 - val_accuracy: 1.0000\n",
            "Epoch 13/32\n",
            "6/6 [==============================] - 5s 833ms/step - loss: 0.0854 - accuracy: 0.9944 - val_loss: 0.0467 - val_accuracy: 1.0000\n",
            "Epoch 14/32\n",
            "6/6 [==============================] - 5s 800ms/step - loss: 0.0724 - accuracy: 0.9929 - val_loss: 0.0379 - val_accuracy: 1.0000\n",
            "Epoch 15/32\n",
            "6/6 [==============================] - 5s 822ms/step - loss: 0.0650 - accuracy: 0.9915 - val_loss: 0.0377 - val_accuracy: 1.0000\n",
            "Epoch 16/32\n",
            "6/6 [==============================] - 5s 803ms/step - loss: 0.0606 - accuracy: 0.9972 - val_loss: 0.0379 - val_accuracy: 1.0000\n",
            "Epoch 17/32\n",
            "6/6 [==============================] - 5s 803ms/step - loss: 0.0676 - accuracy: 0.9873 - val_loss: 0.0326 - val_accuracy: 1.0000\n",
            "Epoch 18/32\n",
            "6/6 [==============================] - 5s 808ms/step - loss: 0.0494 - accuracy: 0.9958 - val_loss: 0.0286 - val_accuracy: 1.0000\n",
            "Epoch 19/32\n",
            "6/6 [==============================] - 5s 835ms/step - loss: 0.0535 - accuracy: 0.9915 - val_loss: 0.0264 - val_accuracy: 1.0000\n",
            "Epoch 20/32\n",
            "6/6 [==============================] - 5s 838ms/step - loss: 0.0469 - accuracy: 0.9972 - val_loss: 0.0266 - val_accuracy: 1.0000\n",
            "Epoch 21/32\n",
            "6/6 [==============================] - 5s 842ms/step - loss: 0.0440 - accuracy: 0.9986 - val_loss: 0.0290 - val_accuracy: 1.0000\n",
            "Epoch 22/32\n",
            "6/6 [==============================] - 5s 841ms/step - loss: 0.0435 - accuracy: 0.9972 - val_loss: 0.0249 - val_accuracy: 1.0000\n",
            "Epoch 23/32\n",
            "6/6 [==============================] - 5s 811ms/step - loss: 0.0355 - accuracy: 0.9972 - val_loss: 0.0208 - val_accuracy: 1.0000\n",
            "Epoch 24/32\n",
            "6/6 [==============================] - 5s 834ms/step - loss: 0.0427 - accuracy: 0.9929 - val_loss: 0.0216 - val_accuracy: 1.0000\n",
            "Epoch 25/32\n",
            "6/6 [==============================] - 5s 813ms/step - loss: 0.0340 - accuracy: 0.9986 - val_loss: 0.0243 - val_accuracy: 1.0000\n",
            "Epoch 26/32\n",
            "6/6 [==============================] - 5s 807ms/step - loss: 0.0311 - accuracy: 0.9958 - val_loss: 0.0289 - val_accuracy: 1.0000\n",
            "Epoch 27/32\n",
            "6/6 [==============================] - 5s 806ms/step - loss: 0.0311 - accuracy: 0.9958 - val_loss: 0.0193 - val_accuracy: 1.0000\n",
            "Epoch 28/32\n",
            "6/6 [==============================] - 5s 815ms/step - loss: 0.0291 - accuracy: 0.9958 - val_loss: 0.0166 - val_accuracy: 1.0000\n",
            "Epoch 29/32\n",
            "6/6 [==============================] - 5s 805ms/step - loss: 0.0280 - accuracy: 0.9972 - val_loss: 0.0166 - val_accuracy: 1.0000\n",
            "Epoch 30/32\n",
            "6/6 [==============================] - 5s 814ms/step - loss: 0.0295 - accuracy: 0.9944 - val_loss: 0.0163 - val_accuracy: 1.0000\n",
            "Epoch 31/32\n",
            "6/6 [==============================] - 5s 817ms/step - loss: 0.0278 - accuracy: 0.9958 - val_loss: 0.0173 - val_accuracy: 1.0000\n",
            "Epoch 32/32\n",
            "6/6 [==============================] - 5s 802ms/step - loss: 0.0257 - accuracy: 0.9986 - val_loss: 0.0156 - val_accuracy: 1.0000\n"
          ]
        }
      ]
    },
    {
      "cell_type": "code",
      "source": [
        "#save our model\n",
        "\n",
        "model.save(\"models.h5\")"
      ],
      "metadata": {
        "id": "qPyO46kB8I1D",
        "colab": {
          "base_uri": "https://localhost:8080/"
        },
        "outputId": "2339d3dc-3758-428d-f6f6-b68eb9400671"
      },
      "execution_count": null,
      "outputs": [
        {
          "output_type": "stream",
          "name": "stderr",
          "text": [
            "/usr/local/lib/python3.10/dist-packages/keras/src/engine/training.py:3103: UserWarning: You are saving your model as an HDF5 file via `model.save()`. This file format is considered legacy. We recommend using instead the native Keras format, e.g. `model.save('my_model.keras')`.\n",
            "  saving_api.save_model(\n"
          ]
        }
      ]
    },
    {
      "cell_type": "code",
      "source": [
        "score = model.evaluate(X_test, Y_test, verbose=1)  # Evaluate the trained model on the test set!\n",
        "print(Y_test.shape)\n",
        "print('Test loss:', score[0])\n",
        "print('Test accuracy:', 100*score[1])"
      ],
      "metadata": {
        "colab": {
          "base_uri": "https://localhost:8080/"
        },
        "id": "eQtXafAIkmAv",
        "outputId": "f78542aa-9736-4b08-a5e4-773b7f439ac8"
      },
      "execution_count": null,
      "outputs": [
        {
          "output_type": "stream",
          "name": "stdout",
          "text": [
            "7/7 [==============================] - 10s 469ms/step - loss: 0.0308 - accuracy: 0.9949\n",
            "(197, 8)\n",
            "Test loss: 0.030822306871414185\n",
            "Test accuracy: 99.49238300323486\n"
          ]
        }
      ]
    },
    {
      "cell_type": "code",
      "source": [
        "err_hist = history.history\n",
        "pd.DataFrame(err_hist).plot(figsize=(8, 5))\n",
        "plt.grid(True)\n",
        "plt.gca().set_ylim(0, 2) # set the vertical range to [0-1]\n",
        "plt.show()"
      ],
      "metadata": {
        "colab": {
          "base_uri": "https://localhost:8080/",
          "height": 451
        },
        "id": "9QqVU_aPksHq",
        "outputId": "be88903b-335d-4525-bcb1-26f4c5b545e9"
      },
      "execution_count": null,
      "outputs": [
        {
          "output_type": "display_data",
          "data": {
            "text/plain": [
              "<Figure size 800x500 with 1 Axes>"
            ],
            "image/png": "[encoded data removed]"
          },
          "metadata": {}
        }
      ]
    },
    {
      "cell_type": "code",
      "source": [
        "predictions = model.predict(X_test)\n",
        "\n",
        "cm = confusion_matrix(np.argmax(Y_test, axis=1), np.argmax(predictions,axis=1), labels=np.arange(num_classes))\n",
        "print(cm)\n",
        "clr = classification_report(np.argmax(Y_test, axis=1), np.argmax(predictions,axis=1), labels=np.arange(num_classes), target_names=class_names)\n",
        "print(clr)\n",
        "plt.figure(figsize=(4, 4))\n",
        "sns.heatmap(cm, annot=True, fmt='g', vmin=0, cmap='Blues', cbar=False)\n",
        "plt.xticks(ticks=np.arange(8) + 0.5, labels=class_names, rotation=90)\n",
        "plt.yticks(ticks=np.arange(8) + 0.5, labels=class_names, rotation=0)\n",
        "plt.xlabel(\"Predicted\")\n",
        "plt.ylabel(\"Actual\")\n",
        "plt.title(\"Confusion Matrix\")\n",
        "plt.savefig('Confusion Matrix55.png')\n",
        "plt.show()\n"
      ],
      "metadata": {
        "colab": {
          "base_uri": "https://localhost:8080/",
          "height": 875
        },
        "id": "SNVP3Spv8Cf8",
        "outputId": "f047563a-b9ee-44be-f960-22b36e758abf"
      },
      "execution_count": null,
      "outputs": [
        {
          "output_type": "stream",
          "name": "stdout",
          "text": [
            "7/7 [==============================] - 1s 180ms/step\n",
            "[[23  0  0  0  0  0  0  0]\n",
            " [ 0 22  0  0  0  0  0  0]\n",
            " [ 0  0 26  0  0  0  0  0]\n",
            " [ 0  0  0 21  0  0  0  0]\n",
            " [ 0  0  0  0 33  0  0  0]\n",
            " [ 0  0  0  0  0 24  0  0]\n",
            " [ 0  0  0  0  0  0 24  0]\n",
            " [ 0  0  1  0  0  0  0 23]]\n",
            "              precision    recall  f1-score   support\n",
            "\n",
            "          Do       1.00      1.00      1.00        23\n",
            "          Re       1.00      1.00      1.00        22\n",
            "          Mi       0.96      1.00      0.98        26\n",
            "          Fa       1.00      1.00      1.00        21\n",
            "         Sol       1.00      1.00      1.00        33\n",
            "          La       1.00      1.00      1.00        24\n",
            "          Ti       1.00      1.00      1.00        24\n",
            "    Imposter       1.00      0.96      0.98        24\n",
            "\n",
            "    accuracy                           0.99       197\n",
            "   macro avg       1.00      0.99      0.99       197\n",
            "weighted avg       1.00      0.99      0.99       197\n",
            "\n"
          ]
        },
        {
          "output_type": "display_data",
          "data": {
            "text/plain": [
              "<Figure size 400x400 with 1 Axes>"
            ],
            "image/png": "[encoded data removed]"
          },
          "metadata": {}
        }
      ]
    }
  ]
}